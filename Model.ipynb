{
 "cells": [
  {
   "cell_type": "code",
   "execution_count": 1,
   "metadata": {},
   "outputs": [],
   "source": [
    "import pandas as pd\n",
    "import numpy as np"
   ]
  },
  {
   "cell_type": "code",
   "execution_count": 2,
   "metadata": {},
   "outputs": [],
   "source": [
    "cat_feat_names = [\"workclass\", \"education_level\", \"marital-status\", \"occupation\", \"relationship\", \"race\", \"sex\",\\\n",
    "                  \"native-country\"]\n",
    "num_feat_names = [\"age\", \"education-num\", \"capital-gain\", \"capital-loss\", \"hours-per-week\"]"
   ]
  },
  {
   "cell_type": "code",
   "execution_count": 22,
   "metadata": {},
   "outputs": [],
   "source": [
    "class Data():\n",
    "    def __init__(self, csv_file, cat_feats, num_feats):\n",
    "        self.cat_feats = cat_feats\n",
    "        self.num_feats = num_feats\n",
    "        self.features = None\n",
    "        self.target= None\n",
    "        self.parse_file(csv_file)\n",
    "        self.X_train = None\n",
    "        self.X_test = None\n",
    "        self.y_train = None\n",
    "        self.y_test = None\n",
    "    \n",
    "    def parse_file(self, csv_file):\n",
    "        df = pd.read_csv(csv_file)\n",
    "        self.features = df[self.cat_feats + self.num_feats].copy()\n",
    "        self.target = np.reshape(df[\"income\"].copy().values, (-1,1))\n",
    "        \n",
    "    def preprocess(self):\n",
    "        pass\n",
    "    \n",
    "    def log_transformation(self, feature):\n",
    "        self.features[feature] = self.features[feature].apply(lambda x: np.log(x+1))\n",
    "    \n",
    "    def scale_data(self):\n",
    "        pass\n",
    "    \n",
    "    def encode_categorical_features(self):\n",
    "        pass\n",
    "    \n",
    "        \n",
    "        "
   ]
  },
  {
   "cell_type": "code",
   "execution_count": null,
   "metadata": {},
   "outputs": [],
   "source": []
  },
  {
   "cell_type": "code",
   "execution_count": 23,
   "metadata": {},
   "outputs": [],
   "source": [
    "data_ = Data(\"census.csv\",cat_feat_names, num_feat_names)"
   ]
  },
  {
   "cell_type": "code",
   "execution_count": 27,
   "metadata": {},
   "outputs": [
    {
     "name": "stdout",
     "output_type": "stream",
     "text": [
      "0    2174.0\n",
      "1       0.0\n",
      "2       0.0\n",
      "3       0.0\n",
      "4       0.0\n",
      "Name: capital-gain, dtype: float64\n"
     ]
    }
   ],
   "source": [
    "print(data_.features[\"capital-gain\"].head(5))"
   ]
  },
  {
   "cell_type": "code",
   "execution_count": 28,
   "metadata": {},
   "outputs": [],
   "source": [
    "data_.log_transformation(\"capital-gain\")\n",
    "data_.log_tranformation(\"capital\")"
   ]
  },
  {
   "cell_type": "code",
   "execution_count": 29,
   "metadata": {},
   "outputs": [
    {
     "name": "stdout",
     "output_type": "stream",
     "text": [
      "0    7.684784\n",
      "1    0.000000\n",
      "2    0.000000\n",
      "3    0.000000\n",
      "4    0.000000\n",
      "Name: capital-gain, dtype: float64\n"
     ]
    }
   ],
   "source": [
    "print(data_.features[\"capital-gain\"].head(5))"
   ]
  },
  {
   "cell_type": "code",
   "execution_count": null,
   "metadata": {},
   "outputs": [],
   "source": []
  }
 ],
 "metadata": {
  "kernelspec": {
   "display_name": "Python 3",
   "language": "python",
   "name": "python3"
  },
  "language_info": {
   "codemirror_mode": {
    "name": "ipython",
    "version": 3
   },
   "file_extension": ".py",
   "mimetype": "text/x-python",
   "name": "python",
   "nbconvert_exporter": "python",
   "pygments_lexer": "ipython3",
   "version": "3.6.8"
  }
 },
 "nbformat": 4,
 "nbformat_minor": 2
}
